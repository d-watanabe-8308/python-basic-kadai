{
  "cells": [
    {
      "cell_type": "markdown",
      "metadata": {
        "id": "view-in-github",
        "colab_type": "text"
      },
      "source": [
        "<a href=\"https://colab.research.google.com/github/d-watanabe-8308/python-basic-kadai/blob/main/kadai_013.ipynb\" target=\"_parent\"><img src=\"https://colab.research.google.com/assets/colab-badge.svg\" alt=\"Open In Colab\"/></a>"
      ]
    },
    {
      "cell_type": "code",
      "execution_count": 10,
      "metadata": {
        "colab": {
          "base_uri": "https://localhost:8080/"
        },
        "id": "U85LDVgwSkZz",
        "outputId": "b4bfa60c-fb9d-41ff-b8ce-bd8962cf26bf"
      },
      "outputs": [
        {
          "output_type": "stream",
          "name": "stdout",
          "text": [
            "109\n"
          ]
        }
      ],
      "source": [
        "import math\n",
        "\n",
        "price = 99 #税抜金額\n",
        "tax = price * 0.1 #消費税\n",
        "inclusive_price = 0 #税込金額\n",
        "\n",
        "inclusive_price = price + tax\n",
        "inclusive_price = math.ceil(inclusive_price) #小数点を切り上げ\n",
        "print(inclusive_price)"
      ]
    },
    {
      "cell_type": "code",
      "source": [
        "price = 99 #税抜金額\n",
        "tax = price * 0.1 #消費税\n",
        "inclusive_price = 0 #税込金額\n",
        "\n",
        "inclusive_price = price + tax\n",
        "inclusive_price = int(inclusive_price) #小数点を切り捨て\n",
        "print(inclusive_price)"
      ],
      "metadata": {
        "colab": {
          "base_uri": "https://localhost:8080/"
        },
        "id": "lrQOTzPhW_ik",
        "outputId": "70e58b37-18c7-4764-f57d-c4087a702aa3"
      },
      "execution_count": 11,
      "outputs": [
        {
          "output_type": "stream",
          "name": "stdout",
          "text": [
            "108\n"
          ]
        }
      ]
    }
  ],
  "metadata": {
    "colab": {
      "provenance": [],
      "authorship_tag": "ABX9TyP2SJU3h6i2jXjT1H49h0ib",
      "include_colab_link": true
    },
    "kernelspec": {
      "display_name": "Python 3",
      "name": "python3"
    },
    "language_info": {
      "name": "python"
    }
  },
  "nbformat": 4,
  "nbformat_minor": 0
}