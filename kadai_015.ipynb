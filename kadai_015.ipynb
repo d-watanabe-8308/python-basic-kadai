{
  "nbformat": 4,
  "nbformat_minor": 0,
  "metadata": {
    "colab": {
      "provenance": [],
      "gpuType": "T4",
      "authorship_tag": "ABX9TyMyXnvuIlVC3cvNuWM5TZuR",
      "include_colab_link": true
    },
    "kernelspec": {
      "name": "python3",
      "display_name": "Python 3"
    },
    "language_info": {
      "name": "python"
    },
    "accelerator": "GPU"
  },
  "cells": [
    {
      "cell_type": "markdown",
      "metadata": {
        "id": "view-in-github",
        "colab_type": "text"
      },
      "source": [
        "<a href=\"https://colab.research.google.com/github/d-watanabe-8308/python-basic-kadai/blob/main/kadai_015.ipynb\" target=\"_parent\"><img src=\"https://colab.research.google.com/assets/colab-badge.svg\" alt=\"Open In Colab\"/></a>"
      ]
    },
    {
      "cell_type": "code",
      "execution_count": null,
      "metadata": {
        "id": "uSInnNmzZyl3"
      },
      "outputs": [],
      "source": [
        "#名前(name)と年齢(age)の属性を持つHumanクラスを作成してください。\n",
        "#nameとageを標準出力(print)するメソッド(printinfo)を追加してください。"
      ]
    },
    {
      "cell_type": "code",
      "source": [
        "class Human:\n",
        "  \n",
        "  def __init__(self, name, age):\n",
        "    self.person_name = name\n",
        "    self.person_age = age\n",
        "\n",
        "  def printinfo(self):\n",
        "    print(self.person_name)\n",
        "    print(self.person_age)\n",
        "\n",
        "human = Human(\"渡邊大祐\", 33)\n",
        "\n",
        "human.printinfo()"
      ],
      "metadata": {
        "colab": {
          "base_uri": "https://localhost:8080/"
        },
        "id": "d-Ea0DzSZ6a6",
        "outputId": "e56be5ee-4ee5-40db-ba0b-1e3f357bcbb2"
      },
      "execution_count": 3,
      "outputs": [
        {
          "output_type": "stream",
          "name": "stdout",
          "text": [
            "渡邊大祐\n",
            "33\n"
          ]
        }
      ]
    }
  ]
}