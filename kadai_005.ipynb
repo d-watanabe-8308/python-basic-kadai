{
  "nbformat": 4,
  "nbformat_minor": 0,
  "metadata": {
    "colab": {
      "provenance": [],
      "authorship_tag": "ABX9TyMNiyPWwOOaQJjEJeD4foLO",
      "include_colab_link": true
    },
    "kernelspec": {
      "name": "python3",
      "display_name": "Python 3"
    },
    "language_info": {
      "name": "python"
    }
  },
  "cells": [
    {
      "cell_type": "markdown",
      "metadata": {
        "id": "view-in-github",
        "colab_type": "text"
      },
      "source": [
        "<a href=\"https://colab.research.google.com/github/d-watanabe-8308/python-basic-kadai/blob/main/kadai_005.ipynb\" target=\"_parent\"><img src=\"https://colab.research.google.com/assets/colab-badge.svg\" alt=\"Open In Colab\"/></a>"
      ]
    },
    {
      "cell_type": "code",
      "execution_count": 1,
      "metadata": {
        "colab": {
          "base_uri": "https://localhost:8080/"
        },
        "id": "ubEyjTSNZPlJ",
        "outputId": "4a852cb7-d70a-4c17-f9ff-89cf6ec4fd37"
      },
      "outputs": [
        {
          "output_type": "stream",
          "name": "stdout",
          "text": [
            "50.0\n"
          ]
        }
      ],
      "source": [
        "# 台形の計算\n",
        "# 公式：台形の面積 =（上辺＋下辺）× 高さ ÷ 2\n",
        "\n",
        "upper_side = 10\n",
        "under_side = 10\n",
        "height = 5\n",
        "\n",
        "print((upper_side + under_side) * height / 2)\n",
        "\n"
      ]
    }
  ]
}